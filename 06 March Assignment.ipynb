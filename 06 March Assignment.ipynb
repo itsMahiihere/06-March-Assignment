{
 "cells": [
  {
   "cell_type": "markdown",
   "id": "90b1faa1-b27b-4a54-8dc4-bcde7075fb9b",
   "metadata": {},
   "source": [
    "Q1.Ans "
   ]
  },
  {
   "cell_type": "markdown",
   "id": "61052d27-ae3c-46f3-a081-b4256ab82f50",
   "metadata": {},
   "source": [
    "It is Branch of Science which used to collecting , orgnizing and analyse the data."
   ]
  },
  {
   "cell_type": "markdown",
   "id": "f65b5814-0a0a-4473-abdc-55481e21e31e",
   "metadata": {},
   "source": [
    "Q2.Ans"
   ]
  },
  {
   "cell_type": "markdown",
   "id": "c3bd22e5-6f0b-4e4c-9e5d-55d604eef778",
   "metadata": {},
   "source": [
    "1.Descriptive statistics:-\n",
    "          It consist of orgnizing and summerizing the data.\n",
    "          Ex.What is the Height of student in the class. 170 cm, 178 cm, 165 cm, 150 cm \n"
   ]
  },
  {
   "cell_type": "markdown",
   "id": "17fc78bb-181d-4984-8672-3db54dff2164",
   "metadata": {},
   "source": [
    "2.Inferential Statistics:-It is used to find the conclusion  of the data. Ex Are height of student is simillar to to height of student expected "
   ]
  },
  {
   "cell_type": "markdown",
   "id": "6d0b7ba0-0116-4f16-8332-573770e2a5a4",
   "metadata": {},
   "source": [
    "Q3.Ans"
   ]
  },
  {
   "cell_type": "markdown",
   "id": "eaa6adb4-de8c-4f56-9398-7d4812a5388a",
   "metadata": {},
   "source": [
    "1.Quantitative data:-\n",
    "           These data can be measured. \n",
    "           \n",
    "  Ex. Descrete data:- No. of children in family,Account number etc.\n",
    "            \n",
    "  Ex. Contineous data:-Any value\n",
    "  \n",
    "2.Qualitative data:-Data can not be measured.\n",
    "\n",
    "   Ex.Nominal data:-Gender ,blood group etc.\n",
    "   Ex.Ordinal:-Feedback(best,good,bad)\n",
    "   \n",
    "            \n",
    "        "
   ]
  },
  {
   "cell_type": "markdown",
   "id": "09bdaa6b-53a5-4339-a37c-3b04d18e98ca",
   "metadata": {},
   "source": [
    "Q4.Ans"
   ]
  },
  {
   "cell_type": "markdown",
   "id": "0e8c8b48-3ab4-4a9b-909a-54c2dda4fda8",
   "metadata": {},
   "source": [
    "i) Qualitative data\n",
    "ii) Qualitative data \n",
    "iii) Quantitative data\n",
    "iv) Quantitative data"
   ]
  },
  {
   "cell_type": "markdown",
   "id": "bc504cd8-313d-4c01-96c3-68de5c9fb374",
   "metadata": {},
   "source": [
    "Q5.Ans"
   ]
  },
  {
   "cell_type": "markdown",
   "id": "a9c359cd-f7eb-4d36-9f5c-7ef22c48ae74",
   "metadata": {},
   "source": [
    "Nominal level: Data at the nominal level cannot be ranked or ordered Examples of nominal level variables include gender (male or female), nationality (American, British, etc.), or marital status (single, married, divorced).\n",
    "\n",
    "Ordinal level: At this level, data can be ordered or ranked In other words, the distance between each value is unknown. Examples of ordinal level variables include rank in a race (first, second, third, etc.), socioeconomic status (low, middle, high), or education level (elementary, high school, college).\n",
    "\n",
    "Interval level: Data at this level can be ranked and has equal intervals between each value, but there is no true zero point. Examples of interval level variables include temperature (measured in degrees Celsius or Fahrenheit), dates on a calendar, or time (measured in minutes, hours, etc.).\n",
    "\n",
    "Ratio level: includes variables with equal intervals and a true zero point. Variables at this level can be ordered, ranked, and the distance between each value is known and quantifiable. Examples of ratio level variables include height, weight, length, distance, and time taken to complete a task."
   ]
  },
  {
   "cell_type": "markdown",
   "id": "31c7cfb4-fc2d-4d21-810b-1329040758d5",
   "metadata": {},
   "source": [
    "Q6. Ans"
   ]
  },
  {
   "cell_type": "markdown",
   "id": "b3f092db-a367-4078-923a-86422f3e8321",
   "metadata": {},
   "source": [
    "It is important to understand the level of measurement of variables when analyzing data because it determines what statistical tests and analyses can be used and how the data can be interpreted.\n",
    "\n",
    "For example, if a researcher wanted to investigate whether there is a difference in the average weight of men and women, they could collect data on the weight of male and female participants. The weight variable in this case would be measured at the ratio level of measurement. Therefore, it would be appropriate to use statistical tests such as t-tests.\n",
    "\n",
    "On the other hand, if the researcher wanted to investigate whether there is a difference in the number of men and women who prefer a certain brand of soda, the preference variable would be measured at the nominal level. Therefore, statistical tests such as chi-square tests \n"
   ]
  },
  {
   "cell_type": "markdown",
   "id": "11d1fd1c-99f8-435d-8534-c876bb0a9d4e",
   "metadata": {},
   "source": [
    "Q7. Ans"
   ]
  },
  {
   "cell_type": "markdown",
   "id": "48352550-7132-463a-8a6d-33e6fc453bd1",
   "metadata": {},
   "source": [
    "Data at the nominal level cannot be ranked or ordered, and there is no inherent order or hierarchy among the categories. For example, gender (male or female), political affiliation (Republican, Democrat, Independent), or color (red, green, blue) are examples of nominal variables.\n",
    "\n",
    "On the other hand, ordinal data involves the ranking or ordering of data based on a specific criterion or characteristic. The values of ordinal data can be ordered, but the intervals between each value are not equal or quantifiable. In other words, the distance between each value is unknown. For example, ratings of satisfaction (low, medium, high), academic grades (A, B, C), or rankings in a competition (first, second, third) are examples of ordinal variables."
   ]
  },
  {
   "cell_type": "markdown",
   "id": "9289e941-7118-465f-baa7-8ec6e8c1ecc7",
   "metadata": {},
   "source": [
    "Q8.Ans:-"
   ]
  },
  {
   "cell_type": "markdown",
   "id": "8626caea-aafc-4763-896f-0f8a551425f6",
   "metadata": {},
   "source": [
    "A box plot, also known as a box-and-whisker plot, is a type of plot that can be used to display data in terms of range. A box plot summarizes the distribution of a dataset by dividing it into four quartiles and displaying the minimum, maximum, median, and quartile values.\n",
    "\n",
    "Box plots are particularly useful for comparing the distribution of data across multiple groups or datasets. They allow us to see how spread out the data is, where the majority of the values lie, and whether there are any outliers or extreme values.\n",
    "\n",
    "By comparing the box plots of multiple groups or datasets, we can quickly identify any differences or similarities in the range of values. Box plots are commonly used in statistics, data analysis, and scientific research, as they provide a clear and concise summary of the data in terms of its range."
   ]
  },
  {
   "cell_type": "markdown",
   "id": "acfca247-e5ef-47a2-b287-4a82689075cf",
   "metadata": {},
   "source": [
    "Q9.Ans"
   ]
  },
  {
   "cell_type": "markdown",
   "id": "c7ae5084-60b5-4047-bb02-78d12e6e8c10",
   "metadata": {},
   "source": [
    " The goal of descriptive statistics is to provide an accurate and concise summary of the data that can be easily understood and interpreted. Descriptive statistics are commonly used to summarize data and to identify patterns or trends in the data.\n",
    "\n",
    "For example, if we want to describe the ages of a group of people, we might calculate the mean, median, and mode of their ages, and then create a frequency distribution to show the number of people in different age ranges. This would provide us with a clear picture of the distribution of ages in our sample and would allow us to describe the data in a meaningful way.\n",
    "\n",
    "The goal of inferential statistics is to use the data from a sample to make generalizations about the population from which the sample was drawn. Inferential statistics are used to test hypotheses, to estimate population parameters, and to make predictions based on the data.\n",
    "\n",
    "For example, if we want to test whether the mean age of a sample of people is significantly different from the mean age of the population as a whole, we might use a t-test to compare the sample mean to the population mean. "
   ]
  },
  {
   "cell_type": "markdown",
   "id": "e845da0d-f8e2-437b-8816-998365f9d5d1",
   "metadata": {},
   "source": [
    "Q10.Ans"
   ]
  },
  {
   "cell_type": "markdown",
   "id": "cb8bd9af-9973-48b0-96d3-be73c7308965",
   "metadata": {},
   "source": [
    "Measures of central tendency and variability are two types of descriptive statistics that are commonly used in statistics to summarize and describe a dataset.\n",
    "       Measures of central tendency describe the typical or central value of a dataset, while measures of variability describe how spread out the data is.\n",
    "     The most common measures of central tendency are:\n",
    "\n",
    "Mean: The mean is the average of a dataset and is calculated by adding up all of the values in the dataset and then dividing by the number of values. The mean is a useful measure of central tendency as it takes into account all of the values in the dataset.\n",
    "\n",
    "Median: The median is the middle value of a dataset when the values are arranged in numerical order. The median is a useful measure of central tendency as it is not affected by extreme values or outliers.\n",
    "\n",
    "Mode: The mode is the value that occurs most frequently in a dataset. The mode is a useful measure of central tendency as it can be used to describe the most common or typical value in a dataset.\n"
   ]
  },
  {
   "cell_type": "code",
   "execution_count": null,
   "id": "8d968f1c-7180-4171-bbb2-1b611aa85363",
   "metadata": {},
   "outputs": [],
   "source": []
  }
 ],
 "metadata": {
  "kernelspec": {
   "display_name": "Python 3 (ipykernel)",
   "language": "python",
   "name": "python3"
  },
  "language_info": {
   "codemirror_mode": {
    "name": "ipython",
    "version": 3
   },
   "file_extension": ".py",
   "mimetype": "text/x-python",
   "name": "python",
   "nbconvert_exporter": "python",
   "pygments_lexer": "ipython3",
   "version": "3.10.8"
  }
 },
 "nbformat": 4,
 "nbformat_minor": 5
}
